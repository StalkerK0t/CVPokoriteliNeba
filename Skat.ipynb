{
 "cells": [
  {
   "cell_type": "code",
   "execution_count": 1,
   "id": "9f16f06b",
   "metadata": {},
   "outputs": [
    {
     "data": {
      "text/plain": [
       "'cuda'"
      ]
     },
     "execution_count": 1,
     "metadata": {},
     "output_type": "execute_result"
    }
   ],
   "source": [
    "import torch\n",
    "import torchvision\n",
    "from torchvision import transforms\n",
    "from torchvision.transforms import v2\n",
    "import torch.nn as nn\n",
    "import torch.nn.functional as F \n",
    "from torchinfo import summary\n",
    "import numpy as np\n",
    "import matplotlib.pyplot as plt\n",
    "%matplotlib inline\n",
    "\n",
    "from tqdm.notebook import tqdm\n",
    "from livelossplot import PlotLosses\n",
    "\n",
    "device = 'cuda' if torch.cuda.is_available() else 'cpu'\n",
    "device"
   ]
  },
  {
   "cell_type": "markdown",
   "id": "40d7e2db",
   "metadata": {},
   "source": [
    "# Обработка датасета\n",
    "Загружаем исходный датасет, увеличиваем его в 5 раз применяя аугментацию (в нашем случае - случайный поворот буквы в пределах от 0 до 360 градусов и случайная обрезка изображения, которая позволяет изменить положение буквы, а также соотношение сторон в пределах (от 0.7 до 1)."
   ]
  },
  {
   "cell_type": "code",
   "execution_count": 2,
   "id": "d3416f52",
   "metadata": {},
   "outputs": [],
   "source": [
    "transform = transforms.Compose(\n",
    "    [transforms.Grayscale(),\n",
    "     transforms.ToTensor()])\n",
    "\n",
    "augment_transform = v2.Compose(\n",
    "    [transform, \n",
    "     v2.RandomRotation((0, 360)), \n",
    "     v2.RandomResizedCrop((32, 32), (0.85, 1), (0.7, 1))])\n",
    "\n",
    "orig_set = torchvision.datasets.ImageFolder(root='./dataset/data_no_affine/', transform=transform)\n",
    "\n",
    "set_1 = torchvision.datasets.ImageFolder(root='./dataset/data_no_affine/', transform=augment_transform)\n",
    "set_2 = torchvision.datasets.ImageFolder(root='./dataset/data_no_affine/', transform=augment_transform)\n",
    "set_3 = torchvision.datasets.ImageFolder(root='./dataset/data_no_affine/', transform=augment_transform)\n",
    "set_4 = torchvision.datasets.ImageFolder(root='./dataset/data_no_affine/', transform=augment_transform)\n",
    "\n",
    "orig_set += set_1 + set_2 + set_3 + set_4"
   ]
  },
  {
   "cell_type": "markdown",
   "id": "f107870d",
   "metadata": {},
   "source": [
    "Делим датасет на обучающий, валидационный и тестовый в соотношении 80%, 10%, 10% соответсвенно. При этом перемешиваем обучающий датасет. Выберем batch size = 8."
   ]
  },
  {
   "cell_type": "code",
   "execution_count": 3,
   "id": "3eaef601",
   "metadata": {},
   "outputs": [
    {
     "data": {
      "text/plain": [
       "(28669, 3583, 3583)"
      ]
     },
     "execution_count": 3,
     "metadata": {},
     "output_type": "execute_result"
    }
   ],
   "source": [
    "val_size = int(0.1 * len(orig_set))\n",
    "test_size = int(0.1 * len(orig_set))\n",
    "train_size = len(orig_set) - val_size - test_size\n",
    "\n",
    "trainset, valset, testset = torch.utils.data.random_split(orig_set, [train_size, val_size, test_size])\n",
    "\n",
    "batch_size = 8\n",
    "\n",
    "\n",
    "train_loader = torch.utils.data.DataLoader(trainset, batch_size=batch_size,\n",
    "                                          shuffle=True, num_workers=2)\n",
    "val_loader = torch.utils.data.DataLoader(valset, batch_size=batch_size,\n",
    "                                         shuffle=False, num_workers=2)\n",
    "test_loader = torch.utils.data.DataLoader(testset, batch_size=batch_size,\n",
    "                                         shuffle=False, num_workers=2)\n",
    "\n",
    "dataloaders = {\n",
    "    \"train\": train_loader,\n",
    "    \"validation\": val_loader,\n",
    "    \"test\": test_loader\n",
    "}\n",
    "\n",
    "len(train_loader.dataset), len(val_loader.dataset), len(test_loader.dataset)"
   ]
  },
  {
   "cell_type": "markdown",
   "id": "b50e3af4",
   "metadata": {},
   "source": [
    "# Сверточная нейронная сеть\n",
    "Создаем класс сверточной нейронной сети"
   ]
  },
  {
   "cell_type": "code",
   "execution_count": 4,
   "id": "bbdd33f7",
   "metadata": {},
   "outputs": [],
   "source": [
    "class PNebaNet(nn.Module):\n",
    "    def __init__(self):\n",
    "        super().__init__()\n",
    "        self.conv1 = nn.Conv2d(in_channels=1, out_channels=64, kernel_size=5)\n",
    "        self.pool = nn.MaxPool2d(kernel_size=2, stride=2)\n",
    "        self.conv2 = nn.Conv2d(in_channels=64, out_channels=128, kernel_size=3)\n",
    "        self.fc1 = nn.Linear(6 * 6 * 128, 128)  \n",
    "        self.fc2 = nn.Linear(128, 64)\n",
    "        self.fc3 = nn.Linear(64, 36)\n",
    "\n",
    "    def forward(self, x):\n",
    "        x = self.pool(F.relu(self.conv1(x)))\n",
    "        x = self.pool(F.relu(self.conv2(x)))\n",
    "        x = x.view(x.shape[0], -1)\n",
    "        x = F.relu(self.fc1(x))\n",
    "        x = F.relu(self.fc2(x))\n",
    "        x = self.fc3(x)\n",
    "        return x"
   ]
  },
  {
   "cell_type": "markdown",
   "id": "0c2425a4",
   "metadata": {},
   "source": [
    "Нейросеть имеет следующую структуру:"
   ]
  },
  {
   "cell_type": "code",
   "execution_count": 5,
   "id": "000411d3",
   "metadata": {},
   "outputs": [
    {
     "data": {
      "text/plain": [
       "==========================================================================================\n",
       "Layer (type:depth-idx)                   Output Shape              Param #\n",
       "==========================================================================================\n",
       "PNebaNet                                 [1, 36]                   --\n",
       "├─Conv2d: 1-1                            [1, 64, 28, 28]           1,664\n",
       "├─MaxPool2d: 1-2                         [1, 64, 14, 14]           --\n",
       "├─Conv2d: 1-3                            [1, 128, 12, 12]          73,856\n",
       "├─MaxPool2d: 1-4                         [1, 128, 6, 6]            --\n",
       "├─Linear: 1-5                            [1, 128]                  589,952\n",
       "├─Linear: 1-6                            [1, 64]                   8,256\n",
       "├─Linear: 1-7                            [1, 36]                   2,340\n",
       "==========================================================================================\n",
       "Total params: 676,068\n",
       "Trainable params: 676,068\n",
       "Non-trainable params: 0\n",
       "Total mult-adds (M): 12.54\n",
       "==========================================================================================\n",
       "Input size (MB): 0.00\n",
       "Forward/backward pass size (MB): 0.55\n",
       "Params size (MB): 2.70\n",
       "Estimated Total Size (MB): 3.26\n",
       "=========================================================================================="
      ]
     },
     "execution_count": 5,
     "metadata": {},
     "output_type": "execute_result"
    }
   ],
   "source": [
    "model = PNebaNet()\n",
    "\n",
    "summary(model.to(device), input_size=(1, 1, 32, 32))"
   ]
  },
  {
   "cell_type": "markdown",
   "id": "f41b42dd",
   "metadata": {},
   "source": [
    "Функция обучения нейросети с выводом графиков и статистики обучения"
   ]
  },
  {
   "cell_type": "code",
   "execution_count": 6,
   "id": "92b57a93",
   "metadata": {},
   "outputs": [],
   "source": [
    "def train_model(model, criterion, optimizer, num_epochs=10):\n",
    "    liveloss = PlotLosses()\n",
    "    model = model.to(device)\n",
    "    \n",
    "    for epoch in range(num_epochs):\n",
    "        logs = {}\n",
    "        for phase in ['train', 'validation']:\n",
    "            if phase == 'train':\n",
    "                model.train()\n",
    "            else:\n",
    "                model.eval()\n",
    "\n",
    "            running_loss = 0.0\n",
    "            running_corrects = 0\n",
    "\n",
    "            for inputs, labels in tqdm(dataloaders[phase], desc=f\"Epoch {epoch} {phase}\"):\n",
    "                inputs = inputs.to(device)\n",
    "                labels = labels.to(device)\n",
    "\n",
    "                outputs = model(inputs)\n",
    "                loss = criterion(outputs, labels)\n",
    "\n",
    "                if phase == 'train':\n",
    "                    optimizer.zero_grad()\n",
    "                    loss.backward()\n",
    "                    optimizer.step()\n",
    "\n",
    "                _, preds = torch.max(outputs, 1)\n",
    "                running_loss += loss.detach() * inputs.size(0)\n",
    "                running_corrects += torch.sum(preds == labels.data)\n",
    "\n",
    "            epoch_loss = running_loss / len(dataloaders[phase].dataset)\n",
    "            epoch_acc = running_corrects.float() / len(dataloaders[phase].dataset)\n",
    "            \n",
    "            prefix = ''\n",
    "            if phase == 'validation':\n",
    "                prefix = 'val_'\n",
    "\n",
    "            logs[prefix + 'log loss'] = epoch_loss.item()\n",
    "            logs[prefix + 'accuracy'] = epoch_acc.item()\n",
    "        \n",
    "        liveloss.update(logs)\n",
    "        liveloss.send()\n",
    "    print(\"End\")"
   ]
  },
  {
   "cell_type": "markdown",
   "id": "a3bce3e1",
   "metadata": {},
   "source": [
    "Для обучения используется оптимизатор Adam и кросс-энтропийная функция потерь. Обучаем 10 эпох. learning rate = 0.0001"
   ]
  },
  {
   "cell_type": "code",
   "execution_count": 7,
   "id": "17ef1fda",
   "metadata": {},
   "outputs": [
    {
     "data": {
      "image/png": "[encoded data removed]",
      "text/plain": [
       "<Figure size 1200x800 with 2 Axes>"
      ]
     },
     "metadata": {},
     "output_type": "display_data"
    },
    {
     "name": "stdout",
     "output_type": "stream",
     "text": [
      "accuracy\n",
      "\ttraining         \t (min:    0.354, max:    0.958, cur:    0.958)\n",
      "\tvalidation       \t (min:    0.594, max:    0.965, cur:    0.965)\n",
      "log loss\n",
      "\ttraining         \t (min:    0.118, max:    2.227, cur:    0.118)\n",
      "\tvalidation       \t (min:    0.109, max:    1.307, cur:    0.109)\n",
      "End\n"
     ]
    }
   ],
   "source": [
    "criterion = nn.CrossEntropyLoss()\n",
    "optimizer = torch.optim.Adam(model.parameters(), lr=1e-4)\n",
    "\n",
    "train_model(model, criterion, optimizer, num_epochs=10)"
   ]
  },
  {
   "cell_type": "markdown",
   "id": "d5a16cee",
   "metadata": {},
   "source": [
    "Проверим точность обученной нейросети для каждого класса на тестовом датасете:"
   ]
  },
  {
   "cell_type": "code",
   "execution_count": 8,
   "id": "669d1a46",
   "metadata": {},
   "outputs": [
    {
     "name": "stdout",
     "output_type": "stream",
     "text": [
      "Accuracy of     0 : 98.958333 %\n",
      "Accuracy of     1 : 100.000000 %\n",
      "Accuracy of     2 : 100.000000 %\n",
      "Accuracy of     3 : 95.959596 %\n",
      "Accuracy of     4 : 91.818182 %\n",
      "Accuracy of     5 : 86.813187 %\n",
      "Accuracy of     6 : 98.260870 %\n",
      "Accuracy of     7 : 98.148148 %\n",
      "Accuracy of     8 : 98.347107 %\n",
      "Accuracy of     9 : 95.789474 %\n",
      "Accuracy of    10 : 92.156863 %\n",
      "Accuracy of    11 : 100.000000 %\n",
      "Accuracy of    12 : 100.000000 %\n",
      "Accuracy of    13 : 95.535714 %\n",
      "Accuracy of    14 : 99.082569 %\n",
      "Accuracy of    15 : 98.214286 %\n",
      "Accuracy of    16 : 97.701149 %\n",
      "Accuracy of    17 : 100.000000 %\n",
      "Accuracy of    18 : 100.000000 %\n",
      "Accuracy of    19 : 100.000000 %\n",
      "Accuracy of    20 : 100.000000 %\n",
      "Accuracy of    21 : 97.849462 %\n",
      "Accuracy of    22 : 95.744681 %\n",
      "Accuracy of    23 : 90.476190 %\n",
      "Accuracy of    24 : 99.019608 %\n",
      "Accuracy of    25 : 99.082569 %\n",
      "Accuracy of    26 : 98.823529 %\n",
      "Accuracy of    27 : 98.958333 %\n",
      "Accuracy of    28 : 63.736264 %\n",
      "Accuracy of    29 : 96.551724 %\n",
      "Accuracy of    30 : 98.924731 %\n",
      "Accuracy of    31 : 97.979798 %\n",
      "Accuracy of    32 : 99.074074 %\n",
      "Accuracy of    33 : 100.000000 %\n",
      "Accuracy of    34 : 100.000000 %\n",
      "Accuracy of    35 : 100.000000 %\n"
     ]
    }
   ],
   "source": [
    "classes = tuple(str(i) for i in range(36))\n",
    "class_correct = list(0. for i in range(36))\n",
    "class_total = list(0. for i in range(36))\n",
    "\n",
    "with torch.no_grad():\n",
    "    for data in dataloaders['test']:\n",
    "        images, labels = data\n",
    "        y_pred = model(images.to(device))\n",
    "        _, predicted = torch.max(y_pred, 1)\n",
    "        \n",
    "        \n",
    "        \n",
    "        c = (predicted.cpu().detach() == labels)\n",
    "        for i in range(len(images)):\n",
    "            label = labels[i]\n",
    "            class_correct[label] += c[i].item()\n",
    "            class_total[label] += 1\n",
    "\n",
    "\n",
    "for i in range(36):\n",
    "\n",
    "    print('Accuracy of %5s : %5f %%' % (\n",
    "        classes[i], 100 * class_correct[i] / class_total[i]))"
   ]
  },
  {
   "cell_type": "markdown",
   "id": "c290a447",
   "metadata": {},
   "source": [
    "Видим хорошую точность предсказаний нейросети, за исключением класса 28. Наиболее вероятной причиной, является то, что буква относящаяся к этому классу является перевернутой буквой из класса 23."
   ]
  },
  {
   "cell_type": "markdown",
   "id": "7f5f071b",
   "metadata": {},
   "source": [
    "Сохраняем обученную модель в двух форматах:"
   ]
  },
  {
   "cell_type": "code",
   "execution_count": 9,
   "id": "518efb4c",
   "metadata": {},
   "outputs": [],
   "source": [
    "torch.save(model, \"./models/PNebaNet_v1\")"
   ]
  },
  {
   "cell_type": "code",
   "execution_count": 10,
   "id": "0ac92af4",
   "metadata": {},
   "outputs": [],
   "source": [
    "torch.save(model.state_dict(), \"./models/PNebaNet_v1_weights\")"
   ]
  },
  {
   "cell_type": "code",
   "execution_count": null,
   "id": "b2df939e",
   "metadata": {},
   "outputs": [],
   "source": []
  }
 ],
 "metadata": {
  "kernelspec": {
   "display_name": "skat",
   "language": "python",
   "name": "skat"
  },
  "language_info": {
   "codemirror_mode": {
    "name": "ipython",
    "version": 3
   },
   "file_extension": ".py",
   "mimetype": "text/x-python",
   "name": "python",
   "nbconvert_exporter": "python",
   "pygments_lexer": "ipython3",
   "version": "3.10.11"
  }
 },
 "nbformat": 4,
 "nbformat_minor": 5
}
